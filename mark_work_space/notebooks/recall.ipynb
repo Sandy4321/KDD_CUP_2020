{
 "cells": [
  {
   "cell_type": "code",
   "execution_count": 2,
   "metadata": {},
   "outputs": [],
   "source": [
    "import pandas as pd\n",
    "import numpy as np\n",
    "import matplotlib.pyplot as plt"
   ]
  },
  {
   "cell_type": "code",
   "execution_count": 3,
   "metadata": {},
   "outputs": [],
   "source": [
    "df =  pd.read_pickle(\"/Users/matianjun/Documents/kdd_competition/final_df.pkl\")\n",
    "# df.drop_duplicates(inplace=True)"
   ]
  },
  {
   "cell_type": "code",
   "execution_count": 4,
   "metadata": {},
   "outputs": [
    {
     "data": {
      "text/html": [
       "<div>\n",
       "<style scoped>\n",
       "    .dataframe tbody tr th:only-of-type {\n",
       "        vertical-align: middle;\n",
       "    }\n",
       "\n",
       "    .dataframe tbody tr th {\n",
       "        vertical-align: top;\n",
       "    }\n",
       "\n",
       "    .dataframe thead th {\n",
       "        text-align: right;\n",
       "    }\n",
       "</style>\n",
       "<table border=\"1\" class=\"dataframe\">\n",
       "  <thead>\n",
       "    <tr style=\"text-align: right;\">\n",
       "      <th></th>\n",
       "      <th>user_id</th>\n",
       "      <th>item_id</th>\n",
       "      <th>time</th>\n",
       "      <th>user_age_level</th>\n",
       "      <th>user_gender</th>\n",
       "      <th>user_city_level</th>\n",
       "      <th>txt_vec</th>\n",
       "      <th>img_vec</th>\n",
       "    </tr>\n",
       "  </thead>\n",
       "  <tbody>\n",
       "    <tr>\n",
       "      <th>0</th>\n",
       "      <td>4965</td>\n",
       "      <td>18</td>\n",
       "      <td>0.983763</td>\n",
       "      <td>4.0</td>\n",
       "      <td>F</td>\n",
       "      <td>1.0</td>\n",
       "      <td>4.001298904418945, -0.1597503125667572, 0.7781...</td>\n",
       "      <td>-2.0337302684783936, -0.875639021396637, 1.105...</td>\n",
       "    </tr>\n",
       "    <tr>\n",
       "      <th>1</th>\n",
       "      <td>4965</td>\n",
       "      <td>18</td>\n",
       "      <td>0.983991</td>\n",
       "      <td>4.0</td>\n",
       "      <td>F</td>\n",
       "      <td>1.0</td>\n",
       "      <td>4.001298904418945, -0.1597503125667572, 0.7781...</td>\n",
       "      <td>-2.0337302684783936, -0.875639021396637, 1.105...</td>\n",
       "    </tr>\n",
       "    <tr>\n",
       "      <th>4</th>\n",
       "      <td>3157</td>\n",
       "      <td>18</td>\n",
       "      <td>0.984165</td>\n",
       "      <td>3.0</td>\n",
       "      <td>F</td>\n",
       "      <td>4.0</td>\n",
       "      <td>4.001298904418945, -0.1597503125667572, 0.7781...</td>\n",
       "      <td>-2.0337302684783936, -0.875639021396637, 1.105...</td>\n",
       "    </tr>\n",
       "    <tr>\n",
       "      <th>7</th>\n",
       "      <td>4965</td>\n",
       "      <td>106632</td>\n",
       "      <td>0.983842</td>\n",
       "      <td>4.0</td>\n",
       "      <td>F</td>\n",
       "      <td>1.0</td>\n",
       "      <td>-0.23744818568229675, -0.5372360348701477, 0.5...</td>\n",
       "      <td>-3.498582124710083, 1.5218520164489746, -0.344...</td>\n",
       "    </tr>\n",
       "    <tr>\n",
       "      <th>8</th>\n",
       "      <td>20572</td>\n",
       "      <td>106632</td>\n",
       "      <td>0.983844</td>\n",
       "      <td>2.0</td>\n",
       "      <td>F</td>\n",
       "      <td>2.0</td>\n",
       "      <td>-0.23744818568229675, -0.5372360348701477, 0.5...</td>\n",
       "      <td>-3.498582124710083, 1.5218520164489746, -0.344...</td>\n",
       "    </tr>\n",
       "  </tbody>\n",
       "</table>\n",
       "</div>"
      ],
      "text/plain": [
       "   user_id  item_id      time  user_age_level user_gender  user_city_level  \\\n",
       "0     4965       18  0.983763             4.0           F              1.0   \n",
       "1     4965       18  0.983991             4.0           F              1.0   \n",
       "4     3157       18  0.984165             3.0           F              4.0   \n",
       "7     4965   106632  0.983842             4.0           F              1.0   \n",
       "8    20572   106632  0.983844             2.0           F              2.0   \n",
       "\n",
       "                                             txt_vec  \\\n",
       "0  4.001298904418945, -0.1597503125667572, 0.7781...   \n",
       "1  4.001298904418945, -0.1597503125667572, 0.7781...   \n",
       "4  4.001298904418945, -0.1597503125667572, 0.7781...   \n",
       "7  -0.23744818568229675, -0.5372360348701477, 0.5...   \n",
       "8  -0.23744818568229675, -0.5372360348701477, 0.5...   \n",
       "\n",
       "                                             img_vec  \n",
       "0  -2.0337302684783936, -0.875639021396637, 1.105...  \n",
       "1  -2.0337302684783936, -0.875639021396637, 1.105...  \n",
       "4  -2.0337302684783936, -0.875639021396637, 1.105...  \n",
       "7  -3.498582124710083, 1.5218520164489746, -0.344...  \n",
       "8  -3.498582124710083, 1.5218520164489746, -0.344...  "
      ]
     },
     "execution_count": 4,
     "metadata": {},
     "output_type": "execute_result"
    }
   ],
   "source": [
    "df.head()"
   ]
  },
  {
   "cell_type": "code",
   "execution_count": 5,
   "metadata": {},
   "outputs": [
    {
     "data": {
      "text/plain": [
       "6002"
      ]
     },
     "execution_count": 5,
     "metadata": {},
     "output_type": "execute_result"
    }
   ],
   "source": [
    "len(df.user_id.unique())"
   ]
  },
  {
   "cell_type": "code",
   "execution_count": 6,
   "metadata": {},
   "outputs": [
    {
     "data": {
      "text/plain": [
       "75093"
      ]
     },
     "execution_count": 6,
     "metadata": {},
     "output_type": "execute_result"
    }
   ],
   "source": [
    "len(df.item_id.unique())"
   ]
  },
  {
   "cell_type": "code",
   "execution_count": 7,
   "metadata": {},
   "outputs": [
    {
     "data": {
      "text/plain": [
       "9"
      ]
     },
     "execution_count": 7,
     "metadata": {},
     "output_type": "execute_result"
    }
   ],
   "source": [
    "len(df.user_age_level.unique())"
   ]
  },
  {
   "cell_type": "code",
   "execution_count": 95,
   "metadata": {},
   "outputs": [
    {
     "data": {
      "text/plain": [
       "7"
      ]
     },
     "execution_count": 95,
     "metadata": {},
     "output_type": "execute_result"
    }
   ],
   "source": [
    "len(df.user_city_level.unique())"
   ]
  },
  {
   "cell_type": "code",
   "execution_count": 8,
   "metadata": {},
   "outputs": [
    {
     "data": {
      "text/plain": [
       "array(['F', 'M', nan], dtype=object)"
      ]
     },
     "execution_count": 8,
     "metadata": {},
     "output_type": "execute_result"
    }
   ],
   "source": [
    "df.user_gender.unique()"
   ]
  },
  {
   "cell_type": "code",
   "execution_count": null,
   "metadata": {},
   "outputs": [],
   "source": [
    "9 * 7 * 3"
   ]
  },
  {
   "cell_type": "code",
   "execution_count": 98,
   "metadata": {},
   "outputs": [
    {
     "data": {
      "text/plain": [
       "array([ 1.,  4.,  2.,  5.,  3.,  6., nan])"
      ]
     },
     "execution_count": 98,
     "metadata": {},
     "output_type": "execute_result"
    }
   ],
   "source": [
    "df.user_city_level.unique()"
   ]
  },
  {
   "cell_type": "code",
   "execution_count": 99,
   "metadata": {},
   "outputs": [
    {
     "data": {
      "text/html": [
       "<div>\n",
       "<style scoped>\n",
       "    .dataframe tbody tr th:only-of-type {\n",
       "        vertical-align: middle;\n",
       "    }\n",
       "\n",
       "    .dataframe tbody tr th {\n",
       "        vertical-align: top;\n",
       "    }\n",
       "\n",
       "    .dataframe thead th {\n",
       "        text-align: right;\n",
       "    }\n",
       "</style>\n",
       "<table border=\"1\" class=\"dataframe\">\n",
       "  <thead>\n",
       "    <tr style=\"text-align: right;\">\n",
       "      <th></th>\n",
       "      <th></th>\n",
       "      <th></th>\n",
       "      <th>user_id</th>\n",
       "      <th>item_id</th>\n",
       "      <th>time</th>\n",
       "      <th>txt_vec</th>\n",
       "      <th>img_vec</th>\n",
       "    </tr>\n",
       "    <tr>\n",
       "      <th>user_city_level</th>\n",
       "      <th>user_gender</th>\n",
       "      <th>user_age_level</th>\n",
       "      <th></th>\n",
       "      <th></th>\n",
       "      <th></th>\n",
       "      <th></th>\n",
       "      <th></th>\n",
       "    </tr>\n",
       "  </thead>\n",
       "  <tbody>\n",
       "    <tr>\n",
       "      <th rowspan=\"10\" valign=\"top\">1.0</th>\n",
       "      <th rowspan=\"8\" valign=\"top\">F</th>\n",
       "      <th>1.0</th>\n",
       "      <td>290</td>\n",
       "      <td>290</td>\n",
       "      <td>290</td>\n",
       "      <td>290</td>\n",
       "      <td>290</td>\n",
       "    </tr>\n",
       "    <tr>\n",
       "      <th>2.0</th>\n",
       "      <td>2461</td>\n",
       "      <td>2461</td>\n",
       "      <td>2461</td>\n",
       "      <td>2461</td>\n",
       "      <td>2461</td>\n",
       "    </tr>\n",
       "    <tr>\n",
       "      <th>3.0</th>\n",
       "      <td>4038</td>\n",
       "      <td>4038</td>\n",
       "      <td>4038</td>\n",
       "      <td>4038</td>\n",
       "      <td>4038</td>\n",
       "    </tr>\n",
       "    <tr>\n",
       "      <th>4.0</th>\n",
       "      <td>5900</td>\n",
       "      <td>5900</td>\n",
       "      <td>5900</td>\n",
       "      <td>5900</td>\n",
       "      <td>5900</td>\n",
       "    </tr>\n",
       "    <tr>\n",
       "      <th>5.0</th>\n",
       "      <td>4614</td>\n",
       "      <td>4614</td>\n",
       "      <td>4614</td>\n",
       "      <td>4614</td>\n",
       "      <td>4614</td>\n",
       "    </tr>\n",
       "    <tr>\n",
       "      <th>6.0</th>\n",
       "      <td>2555</td>\n",
       "      <td>2555</td>\n",
       "      <td>2555</td>\n",
       "      <td>2555</td>\n",
       "      <td>2555</td>\n",
       "    </tr>\n",
       "    <tr>\n",
       "      <th>7.0</th>\n",
       "      <td>1882</td>\n",
       "      <td>1882</td>\n",
       "      <td>1882</td>\n",
       "      <td>1882</td>\n",
       "      <td>1882</td>\n",
       "    </tr>\n",
       "    <tr>\n",
       "      <th>8.0</th>\n",
       "      <td>372</td>\n",
       "      <td>372</td>\n",
       "      <td>372</td>\n",
       "      <td>372</td>\n",
       "      <td>372</td>\n",
       "    </tr>\n",
       "    <tr>\n",
       "      <th rowspan=\"2\" valign=\"top\">M</th>\n",
       "      <th>1.0</th>\n",
       "      <td>29</td>\n",
       "      <td>29</td>\n",
       "      <td>29</td>\n",
       "      <td>29</td>\n",
       "      <td>29</td>\n",
       "    </tr>\n",
       "    <tr>\n",
       "      <th>2.0</th>\n",
       "      <td>217</td>\n",
       "      <td>217</td>\n",
       "      <td>217</td>\n",
       "      <td>217</td>\n",
       "      <td>217</td>\n",
       "    </tr>\n",
       "  </tbody>\n",
       "</table>\n",
       "</div>"
      ],
      "text/plain": [
       "                                            user_id  item_id  time  txt_vec  \\\n",
       "user_city_level user_gender user_age_level                                    \n",
       "1.0             F           1.0                 290      290   290      290   \n",
       "                            2.0                2461     2461  2461     2461   \n",
       "                            3.0                4038     4038  4038     4038   \n",
       "                            4.0                5900     5900  5900     5900   \n",
       "                            5.0                4614     4614  4614     4614   \n",
       "                            6.0                2555     2555  2555     2555   \n",
       "                            7.0                1882     1882  1882     1882   \n",
       "                            8.0                 372      372   372      372   \n",
       "                M           1.0                  29       29    29       29   \n",
       "                            2.0                 217      217   217      217   \n",
       "\n",
       "                                            img_vec  \n",
       "user_city_level user_gender user_age_level           \n",
       "1.0             F           1.0                 290  \n",
       "                            2.0                2461  \n",
       "                            3.0                4038  \n",
       "                            4.0                5900  \n",
       "                            5.0                4614  \n",
       "                            6.0                2555  \n",
       "                            7.0                1882  \n",
       "                            8.0                 372  \n",
       "                M           1.0                  29  \n",
       "                            2.0                 217  "
      ]
     },
     "execution_count": 99,
     "metadata": {},
     "output_type": "execute_result"
    }
   ],
   "source": [
    "df.groupby([\"user_city_level\",\"user_gender\",\"user_age_level\"]).count().head(10)"
   ]
  },
  {
   "cell_type": "code",
   "execution_count": null,
   "metadata": {},
   "outputs": [],
   "source": [
    "df.explode()"
   ]
  },
  {
   "cell_type": "code",
   "execution_count": null,
   "metadata": {},
   "outputs": [],
   "source": [
    "# unnesting(df,[\"txt_vec\"]+[\"txt_{}\".format(i) for i in range(128)])"
   ]
  },
  {
   "cell_type": "code",
   "execution_count": null,
   "metadata": {},
   "outputs": [],
   "source": [
    "df.head()"
   ]
  },
  {
   "cell_type": "code",
   "execution_count": null,
   "metadata": {},
   "outputs": [],
   "source": [
    "df.time.describe()"
   ]
  },
  {
   "cell_type": "markdown",
   "metadata": {},
   "source": [
    "## featudescribe\n",
    "* 点击数聚类\n",
    "* 总时长\n",
    "* 最短时长\n",
    "* 最长时长\n",
    "* 间隔时间\n",
    "* 驻留时间"
   ]
  },
  {
   "cell_type": "code",
   "execution_count": null,
   "metadata": {},
   "outputs": [],
   "source": [
    "4.7"
   ]
  },
  {
   "cell_type": "code",
   "execution_count": 111,
   "metadata": {},
   "outputs": [
    {
     "data": {
      "text/plain": [
       "count    6002.000000\n",
       "mean      340.146413\n",
       "std       158.429736\n",
       "min         0.000000\n",
       "25%       202.994490\n",
       "50%       388.314655\n",
       "75%       484.478216\n",
       "max       544.591265\n",
       "Name: time, dtype: float64"
      ]
     },
     "execution_count": 111,
     "metadata": {},
     "output_type": "execute_result"
    }
   ],
   "source": [
    "((df.groupby([\"user_id\"])['time'].max() - df.groupby([\"user_id\"])['time'].min())*(10**6)).describe()"
   ]
  },
  {
   "cell_type": "code",
   "execution_count": 147,
   "metadata": {},
   "outputs": [
    {
     "name": "stderr",
     "output_type": "stream",
     "text": [
      "/usr/local/lib/python3.7/site-packages/ipykernel_launcher.py:1: FutureWarning: `Series.plot()` should not be called with positional arguments, only keyword arguments. The order of positional arguments will change in the future. Use `Series.plot(kind='hist')` instead of `Series.plot('hist',)`.\n",
      "  \"\"\"Entry point for launching an IPython kernel.\n"
     ]
    },
    {
     "data": {
      "text/plain": [
       "<matplotlib.axes._subplots.AxesSubplot at 0x107cde1d0>"
      ]
     },
     "execution_count": 147,
     "metadata": {},
     "output_type": "execute_result"
    },
    {
     "data": {
      "image/png": "[encoded data removed]",
      "text/plain": [
       "<Figure size 432x288 with 1 Axes>"
      ]
     },
     "metadata": {
      "needs_background": "light"
     },
     "output_type": "display_data"
    }
   ],
   "source": [
    "((df.groupby([\"user_id\"])['time'].max() - df.groupby([\"user_id\"])['time'].min())*(10**6)).plot('hist')"
   ]
  },
  {
   "cell_type": "code",
   "execution_count": 144,
   "metadata": {},
   "outputs": [
    {
     "name": "stderr",
     "output_type": "stream",
     "text": [
      "/usr/local/lib/python3.7/site-packages/ipykernel_launcher.py:1: FutureWarning: `Series.plot()` should not be called with positional arguments, only keyword arguments. The order of positional arguments will change in the future. Use `Series.plot(kind='hist')` instead of `Series.plot('hist',)`.\n",
      "  \"\"\"Entry point for launching an IPython kernel.\n"
     ]
    },
    {
     "data": {
      "text/plain": [
       "<matplotlib.axes._subplots.AxesSubplot at 0x107cad290>"
      ]
     },
     "execution_count": 144,
     "metadata": {},
     "output_type": "execute_result"
    },
    {
     "data": {
      "image/png": "[encoded data removed]",
      "text/plain": [
       "<Figure size 432x288 with 1 Axes>"
      ]
     },
     "metadata": {
      "needs_background": "light"
     },
     "output_type": "display_data"
    }
   ],
   "source": [
    "df.groupby([\"user_id\"])[\"item_id\"].count().plot(\"hist\")"
   ]
  },
  {
   "cell_type": "code",
   "execution_count": 142,
   "metadata": {},
   "outputs": [
    {
     "data": {
      "text/plain": [
       "count    6002.000000\n",
       "mean       36.793236\n",
       "std        36.853689\n",
       "min         1.000000\n",
       "25%        12.000000\n",
       "50%        25.000000\n",
       "75%        49.000000\n",
       "max       427.000000\n",
       "Name: item_id, dtype: float64"
      ]
     },
     "execution_count": 142,
     "metadata": {},
     "output_type": "execute_result"
    }
   ],
   "source": [
    "df.groupby([\"user_id\"])[\"item_id\"].count().describe()"
   ]
  },
  {
   "cell_type": "code",
   "execution_count": 146,
   "metadata": {},
   "outputs": [
    {
     "data": {
      "text/plain": [
       "user_id\n",
       "10        77\n",
       "13        27\n",
       "16        20\n",
       "17         5\n",
       "18        12\n",
       "        ... \n",
       "35334     10\n",
       "35340    124\n",
       "35363    333\n",
       "35384      5\n",
       "35432      8\n",
       "Name: item_id, Length: 6002, dtype: int64"
      ]
     },
     "execution_count": 146,
     "metadata": {},
     "output_type": "execute_result"
    }
   ],
   "source": [
    "df.groupby([\"user_id\"])[\"item_id\"].count()"
   ]
  },
  {
   "cell_type": "code",
   "execution_count": null,
   "metadata": {},
   "outputs": [],
   "source": []
  }
 ],
 "metadata": {
  "kernelspec": {
   "display_name": "Python 3",
   "language": "python",
   "name": "python3"
  },
  "language_info": {
   "codemirror_mode": {
    "name": "ipython",
    "version": 3
   },
   "file_extension": ".py",
   "mimetype": "text/x-python",
   "name": "python",
   "nbconvert_exporter": "python",
   "pygments_lexer": "ipython3",
   "version": "3.7.4"
  }
 },
 "nbformat": 4,
 "nbformat_minor": 4
}
